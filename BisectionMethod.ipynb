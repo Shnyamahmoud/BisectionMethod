{
  "nbformat": 4,
  "nbformat_minor": 0,
  "metadata": {
    "colab": {
      "provenance": [],
      "authorship_tag": "ABX9TyMXdm5opd6DJQwRobLiT+eD",
      "include_colab_link": true
    },
    "kernelspec": {
      "name": "python3",
      "display_name": "Python 3"
    },
    "language_info": {
      "name": "python"
    }
  },
  "cells": [
    {
      "cell_type": "markdown",
      "metadata": {
        "id": "view-in-github",
        "colab_type": "text"
      },
      "source": [
        "<a href=\"https://colab.research.google.com/github/Shnyamahmoud/BisectionMethod/blob/main/BisectionMethod.ipynb\" target=\"_parent\"><img src=\"https://colab.research.google.com/assets/colab-badge.svg\" alt=\"Open In Colab\"/></a>"
      ]
    },
    {
      "cell_type": "code",
      "execution_count": null,
      "metadata": {
        "id": "77tfjperIYg0"
      },
      "outputs": [],
      "source": [
        "\n",
        "def f(x):\n",
        "    return x ** 3 - 3 * x - 1\n",
        "\n",
        "def bisection(a, b, e):\n",
        "    print('\\n\\n*** BISECTION METHOD IMPLEMENTATION ***')\n",
        "    condition = True\n",
        "    while condition:\n",
        "        p = (a + b) / 2\n",
        "        print('p = %0.6f and f(p) = %0.6f' % (p, f(p)))\n",
        "\n",
        "\n",
        "        if f(a) * f(p) < 0:\n",
        "            b = p\n",
        "        else:\n",
        "            a = p\n",
        "\n",
        "\n",
        "        condition = abs(f(p)) > e\n",
        "\n",
        "\n",
        "    print('\\nRequired Root is : %0.8f' % p)\n",
        "\n",
        "\n",
        "\n",
        "\n",
        "a = float(input('First Guess: '))\n",
        "b = float(input('Second Guess: '))\n",
        "e = float(input('Tolerable Error: '))\n",
        "\n",
        "\n",
        "\n",
        "if f(a) * f(b) > 0.0:\n",
        "    print('Given guess values do not bracket the root.')\n",
        "    print('Try Again with different guess values.')\n",
        "else:\n",
        "    bisection(a, b, e)"
      ]
    }
  ]
}